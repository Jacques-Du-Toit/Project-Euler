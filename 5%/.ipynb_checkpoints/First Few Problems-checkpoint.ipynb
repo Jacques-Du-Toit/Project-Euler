{
 "cells": [
  {
   "cell_type": "code",
   "execution_count": 70,
   "id": "3489a053-9132-48c6-b9f6-3a00affcb898",
   "metadata": {},
   "outputs": [],
   "source": [
    "def check_prime(p, primes=[]):\n",
    "    if len(primes) == 0: start = 2\n",
    "    else: start = primes[-1]+1\n",
    "    # find all primes from start to end\n",
    "    for i in range(start, int(p**0.5)+1):\n",
    "        is_prime = True\n",
    "        for prime in primes:\n",
    "            if i%prime == 0:\n",
    "                is_prime = False\n",
    "                break\n",
    "        if is_prime: primes.append(i)\n",
    "    # determine if p is prime\n",
    "    is_prime = True\n",
    "    for prime in primes:\n",
    "        if p%prime == 0:\n",
    "            is_prime = False\n",
    "            break\n",
    "    return is_prime, primes"
   ]
  },
  {
   "cell_type": "code",
   "execution_count": 63,
   "id": "d3a0b915-fd05-4776-b9a1-18297cecab02",
   "metadata": {},
   "outputs": [],
   "source": [
    "def count_down_from(start_here):\n",
    "    for n in range(start_here, 3, -1):\n",
    "        if big_N%n == 0:\n",
    "            return n"
   ]
  },
  {
   "cell_type": "code",
   "execution_count": 76,
   "id": "3c4800c9-ffef-4856-92de-4544b4f60200",
   "metadata": {
    "jupyter": {
     "source_hidden": true
    }
   },
   "outputs": [],
   "source": [
    "def main(big_N):\n",
    "    nhcf = count_down_from(int(big_N**0.5)+1)\n",
    "    is_prime = False\n",
    "    primes = []\n",
    "    while True:\n",
    "        is_prime, primes = check_prime(nhcf, primes)\n",
    "        if is_prime: break\n",
    "        nhcf = count_down_from(nhcf-1)\n",
    "    return nhcf"
   ]
  },
  {
   "cell_type": "code",
   "execution_count": 106,
   "id": "af3a3a28-df7d-4486-b1af-8b7f0c1b223a",
   "metadata": {},
   "outputs": [],
   "source": [
    "times = [0.000005, 0.000022, 0.000022, 0.002, 0.093, 1.3, 2.1, 2.6,  3]\n",
    "sizes = [10000, 10000, 100000, 1000000000, 1000000000000, 200000000000000, 500000000000000, 800000000000000, 1000000000000000]"
   ]
  },
  {
   "cell_type": "code",
   "execution_count": 97,
   "id": "ca1070f6-ea7f-4915-8ca6-11e42bc9c782",
   "metadata": {
    "collapsed": true,
    "jupyter": {
     "outputs_hidden": true
    }
   },
   "outputs": [
    {
     "name": "stdout",
     "output_type": "stream",
     "text": [
      "Collecting matplotlib\n",
      "  Downloading matplotlib-3.8.3-cp39-cp39-win_amd64.whl.metadata (5.9 kB)\n",
      "Collecting contourpy>=1.0.1 (from matplotlib)\n",
      "  Downloading contourpy-1.2.0-cp39-cp39-win_amd64.whl.metadata (5.8 kB)\n",
      "Collecting cycler>=0.10 (from matplotlib)\n",
      "  Downloading cycler-0.12.1-py3-none-any.whl.metadata (3.8 kB)\n",
      "Collecting fonttools>=4.22.0 (from matplotlib)\n",
      "  Downloading fonttools-4.49.0-cp39-cp39-win_amd64.whl.metadata (162 kB)\n",
      "     ---------------------------------------- 0.0/162.3 kB ? eta -:--:--\n",
      "     -- ------------------------------------- 10.2/162.3 kB ? eta -:--:--\n",
      "     --------- --------------------------- 41.0/162.3 kB 653.6 kB/s eta 0:00:01\n",
      "     ------------------ ------------------ 81.9/162.3 kB 919.0 kB/s eta 0:00:01\n",
      "     ------------------------------- ---- 143.4/162.3 kB 944.1 kB/s eta 0:00:01\n",
      "     ------------------------------------ 162.3/162.3 kB 974.7 kB/s eta 0:00:00\n",
      "Collecting kiwisolver>=1.3.1 (from matplotlib)\n",
      "  Downloading kiwisolver-1.4.5-cp39-cp39-win_amd64.whl.metadata (6.5 kB)\n",
      "Requirement already satisfied: numpy<2,>=1.21 in c:\\users\\jacques du toit\\anaconda3\\envs\\machine-learning\\lib\\site-packages (from matplotlib) (1.26.4)\n",
      "Requirement already satisfied: packaging>=20.0 in c:\\users\\jacques du toit\\anaconda3\\envs\\machine-learning\\lib\\site-packages (from matplotlib) (23.1)\n",
      "Requirement already satisfied: pillow>=8 in c:\\users\\jacques du toit\\anaconda3\\envs\\machine-learning\\lib\\site-packages (from matplotlib) (10.2.0)\n",
      "Collecting pyparsing>=2.3.1 (from matplotlib)\n",
      "  Downloading pyparsing-3.1.1-py3-none-any.whl.metadata (5.1 kB)\n",
      "Requirement already satisfied: python-dateutil>=2.7 in c:\\users\\jacques du toit\\anaconda3\\envs\\machine-learning\\lib\\site-packages (from matplotlib) (2.8.2)\n",
      "Collecting importlib-resources>=3.2.0 (from matplotlib)\n",
      "  Downloading importlib_resources-6.1.2-py3-none-any.whl.metadata (3.9 kB)\n",
      "Requirement already satisfied: zipp>=3.1.0 in c:\\users\\jacques du toit\\anaconda3\\envs\\machine-learning\\lib\\site-packages (from importlib-resources>=3.2.0->matplotlib) (3.17.0)\n",
      "Requirement already satisfied: six>=1.5 in c:\\users\\jacques du toit\\anaconda3\\envs\\machine-learning\\lib\\site-packages (from python-dateutil>=2.7->matplotlib) (1.16.0)\n",
      "Downloading matplotlib-3.8.3-cp39-cp39-win_amd64.whl (7.6 MB)\n",
      "   ---------------------------------------- 0.0/7.6 MB ? eta -:--:--\n",
      "   ---------------------------------------- 0.1/7.6 MB 1.7 MB/s eta 0:00:05\n",
      "    --------------------------------------- 0.1/7.6 MB 1.4 MB/s eta 0:00:06\n",
      "    --------------------------------------- 0.2/7.6 MB 1.3 MB/s eta 0:00:06\n",
      "   - -------------------------------------- 0.3/7.6 MB 1.4 MB/s eta 0:00:06\n",
      "   - -------------------------------------- 0.3/7.6 MB 1.3 MB/s eta 0:00:06\n",
      "   - -------------------------------------- 0.3/7.6 MB 1.2 MB/s eta 0:00:06\n",
      "   -- ------------------------------------- 0.4/7.6 MB 1.2 MB/s eta 0:00:06\n",
      "   -- ------------------------------------- 0.4/7.6 MB 1.3 MB/s eta 0:00:06\n",
      "   -- ------------------------------------- 0.5/7.6 MB 1.2 MB/s eta 0:00:06\n",
      "   -- ------------------------------------- 0.6/7.6 MB 1.2 MB/s eta 0:00:06\n",
      "   --- ------------------------------------ 0.6/7.6 MB 1.2 MB/s eta 0:00:06\n",
      "   --- ------------------------------------ 0.7/7.6 MB 1.3 MB/s eta 0:00:06\n",
      "   ---- ----------------------------------- 0.8/7.6 MB 1.4 MB/s eta 0:00:05\n",
      "   ---- ----------------------------------- 0.9/7.6 MB 1.4 MB/s eta 0:00:05\n",
      "   ----- ---------------------------------- 1.0/7.6 MB 1.4 MB/s eta 0:00:05\n",
      "   ----- ---------------------------------- 1.1/7.6 MB 1.5 MB/s eta 0:00:05\n",
      "   ------ --------------------------------- 1.2/7.6 MB 1.6 MB/s eta 0:00:05\n",
      "   ------ --------------------------------- 1.3/7.6 MB 1.6 MB/s eta 0:00:04\n",
      "   ------- -------------------------------- 1.4/7.6 MB 1.7 MB/s eta 0:00:04\n",
      "   -------- ------------------------------- 1.6/7.6 MB 1.7 MB/s eta 0:00:04\n",
      "   -------- ------------------------------- 1.7/7.6 MB 1.8 MB/s eta 0:00:04\n",
      "   --------- ------------------------------ 1.9/7.6 MB 1.8 MB/s eta 0:00:04\n",
      "   ---------- ----------------------------- 2.0/7.6 MB 1.9 MB/s eta 0:00:03\n",
      "   ----------- ---------------------------- 2.2/7.6 MB 1.9 MB/s eta 0:00:03\n",
      "   ------------ --------------------------- 2.3/7.6 MB 2.0 MB/s eta 0:00:03\n",
      "   ------------- -------------------------- 2.5/7.6 MB 2.1 MB/s eta 0:00:03\n",
      "   -------------- ------------------------- 2.7/7.6 MB 2.2 MB/s eta 0:00:03\n",
      "   -------------- ------------------------- 2.8/7.6 MB 2.2 MB/s eta 0:00:03\n",
      "   --------------- ------------------------ 2.9/7.6 MB 2.2 MB/s eta 0:00:03\n",
      "   ---------------- ----------------------- 3.1/7.6 MB 2.3 MB/s eta 0:00:02\n",
      "   ----------------- ---------------------- 3.3/7.6 MB 2.3 MB/s eta 0:00:02\n",
      "   ----------------- ---------------------- 3.4/7.6 MB 2.3 MB/s eta 0:00:02\n",
      "   ------------------ --------------------- 3.6/7.6 MB 2.4 MB/s eta 0:00:02\n",
      "   ------------------- -------------------- 3.7/7.6 MB 2.4 MB/s eta 0:00:02\n",
      "   -------------------- ------------------- 3.9/7.6 MB 2.4 MB/s eta 0:00:02\n",
      "   --------------------- ------------------ 4.1/7.6 MB 2.5 MB/s eta 0:00:02\n",
      "   ---------------------- ----------------- 4.3/7.6 MB 2.5 MB/s eta 0:00:02\n",
      "   ----------------------- ---------------- 4.5/7.6 MB 2.6 MB/s eta 0:00:02\n",
      "   ------------------------ --------------- 4.6/7.6 MB 2.6 MB/s eta 0:00:02\n",
      "   ------------------------- -------------- 4.9/7.6 MB 2.7 MB/s eta 0:00:02\n",
      "   -------------------------- ------------- 5.1/7.6 MB 2.7 MB/s eta 0:00:01\n",
      "   --------------------------- ------------ 5.3/7.6 MB 2.8 MB/s eta 0:00:01\n",
      "   ----------------------------- ---------- 5.6/7.6 MB 2.8 MB/s eta 0:00:01\n",
      "   ------------------------------ --------- 5.8/7.6 MB 2.9 MB/s eta 0:00:01\n",
      "   ------------------------------- -------- 6.0/7.6 MB 2.9 MB/s eta 0:00:01\n",
      "   -------------------------------- ------- 6.2/7.6 MB 2.9 MB/s eta 0:00:01\n",
      "   --------------------------------- ------ 6.3/7.6 MB 2.9 MB/s eta 0:00:01\n",
      "   ---------------------------------- ----- 6.5/7.6 MB 3.0 MB/s eta 0:00:01\n",
      "   ---------------------------------- ----- 6.6/7.6 MB 2.9 MB/s eta 0:00:01\n",
      "   ------------------------------------ --- 6.9/7.6 MB 3.0 MB/s eta 0:00:01\n",
      "   ------------------------------------- -- 7.1/7.6 MB 3.0 MB/s eta 0:00:01\n",
      "   -------------------------------------- - 7.4/7.6 MB 3.1 MB/s eta 0:00:01\n",
      "   ---------------------------------------  7.6/7.6 MB 3.1 MB/s eta 0:00:01\n",
      "   ---------------------------------------- 7.6/7.6 MB 3.1 MB/s eta 0:00:00\n",
      "Downloading contourpy-1.2.0-cp39-cp39-win_amd64.whl (181 kB)\n",
      "   ---------------------------------------- 0.0/181.9 kB ? eta -:--:--\n",
      "   -------------------------------------- - 174.1/181.9 kB 5.3 MB/s eta 0:00:01\n",
      "   ---------------------------------------- 181.9/181.9 kB 5.5 MB/s eta 0:00:00\n",
      "Downloading cycler-0.12.1-py3-none-any.whl (8.3 kB)\n",
      "Downloading fonttools-4.49.0-cp39-cp39-win_amd64.whl (2.2 MB)\n",
      "   ---------------------------------------- 0.0/2.2 MB ? eta -:--:--\n",
      "   --- ------------------------------------ 0.2/2.2 MB 4.1 MB/s eta 0:00:01\n",
      "   -------- ------------------------------- 0.5/2.2 MB 4.8 MB/s eta 0:00:01\n",
      "   ------------ --------------------------- 0.7/2.2 MB 4.8 MB/s eta 0:00:01\n",
      "   ---------------- ----------------------- 0.9/2.2 MB 4.8 MB/s eta 0:00:01\n",
      "   --------------------- ------------------ 1.2/2.2 MB 5.0 MB/s eta 0:00:01\n",
      "   ------------------------- -------------- 1.4/2.2 MB 4.9 MB/s eta 0:00:01\n",
      "   ----------------------------- ---------- 1.6/2.2 MB 5.2 MB/s eta 0:00:01\n",
      "   ---------------------------------- ----- 1.9/2.2 MB 5.2 MB/s eta 0:00:01\n",
      "   -------------------------------------- - 2.1/2.2 MB 5.1 MB/s eta 0:00:01\n",
      "   ---------------------------------------- 2.2/2.2 MB 4.8 MB/s eta 0:00:00\n",
      "Downloading importlib_resources-6.1.2-py3-none-any.whl (34 kB)\n",
      "Downloading kiwisolver-1.4.5-cp39-cp39-win_amd64.whl (56 kB)\n",
      "   ---------------------------------------- 0.0/56.2 kB ? eta -:--:--\n",
      "   ---------------------------------------- 56.2/56.2 kB 1.5 MB/s eta 0:00:00\n",
      "Downloading pyparsing-3.1.1-py3-none-any.whl (103 kB)\n",
      "   ---------------------------------------- 0.0/103.1 kB ? eta -:--:--\n",
      "   ---------------------------------------- 103.1/103.1 kB 5.8 MB/s eta 0:00:00\n",
      "Installing collected packages: pyparsing, kiwisolver, importlib-resources, fonttools, cycler, contourpy, matplotlib\n",
      "Successfully installed contourpy-1.2.0 cycler-0.12.1 fonttools-4.49.0 importlib-resources-6.1.2 kiwisolver-1.4.5 matplotlib-3.8.3 pyparsing-3.1.1\n",
      "Note: you may need to restart the kernel to use updated packages.\n"
     ]
    },
    {
     "name": "stderr",
     "output_type": "stream",
     "text": [
      "ERROR: pip's dependency resolver does not currently take into account all the packages that are installed. This behaviour is the source of the following dependency conflicts.\n",
      "seaborn 0.11.2 requires scipy>=1.0, which is not installed.\n"
     ]
    }
   ],
   "source": [
    "pip install matplotlib"
   ]
  },
  {
   "cell_type": "code",
   "execution_count": 98,
   "id": "336265bf-4e20-4c5b-b5ef-a4e9df968af9",
   "metadata": {},
   "outputs": [],
   "source": [
    "import matplotlib.pyplot as plt"
   ]
  },
  {
   "cell_type": "code",
   "execution_count": 107,
   "id": "e75a6566-efa7-4131-9dc7-be477b863184",
   "metadata": {
    "collapsed": true,
    "jupyter": {
     "outputs_hidden": true
    }
   },
   "outputs": [
    {
     "data": {
      "text/plain": [
       "<matplotlib.collections.PathCollection at 0x23ef165abb0>"
      ]
     },
     "execution_count": 107,
     "metadata": {},
     "output_type": "execute_result"
    },
    {
     "data": {
      "image/png": "[encoded data removed]",
      "text/plain": [
       "<Figure size 640x480 with 1 Axes>"
      ]
     },
     "metadata": {},
     "output_type": "display_data"
    }
   ],
   "source": [
    "plt.scatter(sizes, times)"
   ]
  },
  {
   "cell_type": "code",
   "execution_count": 103,
   "id": "a854aa12-a44f-4b98-9c9e-bc27b1b4ed29",
   "metadata": {},
   "outputs": [
    {
     "name": "stdout",
     "output_type": "stream",
     "text": [
      "1.31 s ± 25.6 ms per loop (mean ± std. dev. of 7 runs, 1 loop each)\n"
     ]
    }
   ],
   "source": [
    "%%timeit\n",
    "main(200000000000000)"
   ]
  },
  {
   "cell_type": "code",
   "execution_count": 156,
   "id": "823791a0-06ba-421f-84c7-d94009f72d4e",
   "metadata": {},
   "outputs": [],
   "source": [
    "def calc1(a,b):\n",
    "    eq = 1000*(a+b)-a*b\n",
    "    if eq == 500_000:\n",
    "        return True\n",
    "    else:\n",
    "        return False\n",
    "    \n",
    "def math1():\n",
    "    for a in range(1, 333):\n",
    "        for b in range(a+1,500):\n",
    "            if calc1(a,b):\n",
    "                return a,b"
   ]
  },
  {
   "cell_type": "code",
   "execution_count": 157,
   "id": "d5fbfa54-af47-45cd-bfa0-4e536df6b781",
   "metadata": {},
   "outputs": [],
   "source": [
    "def calc2(a,b):\n",
    "    c = 1000 - a - b\n",
    "    if a**2 + b**2 == c**2:\n",
    "        return True\n",
    "    else:\n",
    "        return False\n",
    "\n",
    "\n",
    "def math2():\n",
    "    for a in range(1,333):\n",
    "        for b in range(a+1, 500):\n",
    "            if calc2(a,b):\n",
    "                return a,b, 1000-a-b"
   ]
  },
  {
   "cell_type": "code",
   "execution_count": 161,
   "id": "013256cf-0fc1-4c51-9447-653b67d6b194",
   "metadata": {},
   "outputs": [],
   "source": [
    "def math_ultimate():\n",
    "    for a in range(1,333):\n",
    "        for b in range(a+1, 500):\n",
    "            for c in range(b+1, 998):\n",
    "                if a + b + c == 1000 and a**2 + b**2 == c**2:\n",
    "                    return a, b, c"
   ]
  },
  {
   "cell_type": "code",
   "execution_count": 158,
   "id": "ba08321c-2e43-49ad-bd4d-280dfa744ce1",
   "metadata": {},
   "outputs": [
    {
     "name": "stdout",
     "output_type": "stream",
     "text": [
      "17.2 ms ± 240 µs per loop (mean ± std. dev. of 7 runs, 100 loops each)\n"
     ]
    }
   ],
   "source": [
    "%%timeit\n",
    "math1()"
   ]
  },
  {
   "cell_type": "code",
   "execution_count": 159,
   "id": "153c6884-905a-45ae-a417-6b906d44a7ef",
   "metadata": {},
   "outputs": [
    {
     "name": "stdout",
     "output_type": "stream",
     "text": [
      "60.6 ms ± 947 µs per loop (mean ± std. dev. of 7 runs, 10 loops each)\n"
     ]
    }
   ],
   "source": [
    "%%timeit\n",
    "math2()"
   ]
  },
  {
   "cell_type": "code",
   "execution_count": 162,
   "id": "a5800e11-e18f-4364-a22f-8be7c002965c",
   "metadata": {},
   "outputs": [
    {
     "name": "stdout",
     "output_type": "stream",
     "text": [
      "3.76 s ± 38.3 ms per loop (mean ± std. dev. of 7 runs, 1 loop each)\n"
     ]
    }
   ],
   "source": [
    "%%timeit\n",
    "math_ultimate()"
   ]
  },
  {
   "cell_type": "code",
   "execution_count": 168,
   "id": "a8466460-9df1-427f-ad76-8e97d36099d4",
   "metadata": {},
   "outputs": [],
   "source": [
    "def pythtest(n) :\n",
    "    #n is a + b + c where a**2+b**2=c**2\n",
    "    sq = map(lambda x: x*x,range(0,n//2+ 1))\n",
    "    j,t = divmod(n,2)\n",
    "    t = 0\n",
    "    for i in range(1,n//4) :\n",
    "      while True :\n",
    "        t += 1 #just an iteration counter\n",
    "        c = ((sq[i] + sq[j])**0.5)\n",
    "        d = i+j+c\n",
    "        if d > n : j -= 1\n",
    "        elif d == n : return i,j,c, i*j*c, t\n",
    "        else : break"
   ]
  },
  {
   "cell_type": "code",
   "execution_count": 177,
   "id": "b6d40d6a-35ec-4c6d-b1a9-faff3723cf32",
   "metadata": {},
   "outputs": [
    {
     "name": "stdout",
     "output_type": "stream",
     "text": [
      "32.6 ms ± 458 µs per loop (mean ± std. dev. of 7 runs, 10 loops each)\n"
     ]
    }
   ],
   "source": [
    "%%timeit\n",
    "for c in range(334,500):\n",
    "    for a in range(1, (1000-c)//2):\n",
    "        b = (1000 - c) - a\n",
    "        if a**2 + b**2 == c**2:\n",
    "            pass\n",
    "            #print(\"a,b,c =\",a,b,c)"
   ]
  },
  {
   "cell_type": "code",
   "execution_count": null,
   "id": "1982e43d-eb10-4792-8c95-5b1f2699291e",
   "metadata": {},
   "outputs": [],
   "source": []
  },
  {
   "cell_type": "code",
   "execution_count": null,
   "id": "cd5412c6-4584-481c-9990-ccfa6c0c8d1c",
   "metadata": {},
   "outputs": [],
   "source": []
  },
  {
   "cell_type": "code",
   "execution_count": null,
   "id": "3323f9c0-8a62-4a6d-813b-0503e6fd1af1",
   "metadata": {},
   "outputs": [],
   "source": []
  },
  {
   "cell_type": "code",
   "execution_count": null,
   "id": "bfcdc3dd-c4e4-45bb-8ad2-64d4eb51ac83",
   "metadata": {},
   "outputs": [],
   "source": []
  },
  {
   "cell_type": "code",
   "execution_count": null,
   "id": "85f8db10-4671-494e-afe4-e952ec774bf9",
   "metadata": {},
   "outputs": [],
   "source": []
  },
  {
   "cell_type": "code",
   "execution_count": null,
   "id": "d62f3f12-e966-40bb-9968-773cc64c9068",
   "metadata": {},
   "outputs": [],
   "source": []
  },
  {
   "cell_type": "markdown",
   "id": "b75c25b0-c4ac-4eb8-b3a3-7916f092c1bb",
   "metadata": {},
   "source": [
    "# Highly Divisible Triangular Number"
   ]
  },
  {
   "cell_type": "code",
   "execution_count": 14,
   "id": "808eff48-b9df-4359-97e8-0ed087a5460c",
   "metadata": {},
   "outputs": [],
   "source": [
    "def number_divisors(n):\n",
    "    len_factors = 2\n",
    "    for i in range(2, (n//2)+1):\n",
    "        if n%i == 0:\n",
    "            len_factors += 1\n",
    "    return len_factors"
   ]
  },
  {
   "cell_type": "code",
   "execution_count": 16,
   "id": "a225d898-38b5-4174-ba01-0db3707c2723",
   "metadata": {},
   "outputs": [],
   "source": [
    "def number_divisors_faster(n):\n",
    "    factors = [1, n]\n",
    "    for i in range(2, (n//2)+1):\n",
    "        if i in factors: break\n",
    "        if n%i == 0:\n",
    "            factors.append(i)\n",
    "            factors.append(n/i)\n",
    "    return len(factors)"
   ]
  },
  {
   "cell_type": "code",
   "execution_count": 18,
   "id": "ed0ac053-2f4e-4c6c-8b11-f70a083bce1f",
   "metadata": {},
   "outputs": [
    {
     "name": "stdout",
     "output_type": "stream",
     "text": [
      "7.69 ms ± 294 µs per loop (mean ± std. dev. of 7 runs, 100 loops each)\n"
     ]
    }
   ],
   "source": [
    "%%timeit\n",
    "number_divisors(273612)"
   ]
  },
  {
   "cell_type": "code",
   "execution_count": 19,
   "id": "225d8295-ea04-4178-918f-d47db7cbad44",
   "metadata": {},
   "outputs": [
    {
     "name": "stdout",
     "output_type": "stream",
     "text": [
      "202 µs ± 14.4 µs per loop (mean ± std. dev. of 7 runs, 10,000 loops each)\n"
     ]
    }
   ],
   "source": [
    "%%timeit\n",
    "number_divisors_faster(273612)"
   ]
  },
  {
   "cell_type": "code",
   "execution_count": 32,
   "id": "d049ac62-8ff3-4a0c-8ac2-55414f3d7c39",
   "metadata": {},
   "outputs": [
    {
     "name": "stdout",
     "output_type": "stream",
     "text": [
      "76576500\n"
     ]
    }
   ],
   "source": [
    "i = 1\n",
    "tri = 0\n",
    "while True:\n",
    "    tri = tri + i\n",
    "    if find_factors(tri)>500:\n",
    "        print(tri)\n",
    "        break\n",
    "    i+=1"
   ]
  },
  {
   "cell_type": "code",
   "execution_count": null,
   "id": "185f3275-916d-438e-a4d6-e2c029511b2f",
   "metadata": {},
   "outputs": [],
   "source": [
    "i = 1\n",
    "tri = 0\n",
    "while True:\n",
    "    tri = tri + i\n",
    "    if number_divisors(tri)>500:\n",
    "        print(tri)\n",
    "        break\n",
    "    i+=1"
   ]
  },
  {
   "cell_type": "code",
   "execution_count": 31,
   "id": "41d6060c-477b-403e-b626-6f13729083e3",
   "metadata": {},
   "outputs": [
    {
     "name": "stdout",
     "output_type": "stream",
     "text": [
      "76576500 has 576 factors\n"
     ]
    }
   ],
   "source": [
    "def find_factors(x):\n",
    "\tfactors = 2\n",
    "\trootx = x ** 0.5\n",
    "\tfor i in range(2,int(rootx) + 1):\n",
    "\t\tif x % i == 0:\n",
    "\t\t\tfactors += 2\n",
    "\tif rootx == int(rootx):\n",
    "\t\treturn factors - 1\n",
    "\telse:\n",
    "\t\treturn factors\n",
    "\n",
    "n = 1\n",
    "triangle = 1\n",
    "most_factors = 1\n",
    "\n",
    "while most_factors < 500:\n",
    "\tn += 1\n",
    "\ttriangle += n\n",
    "\tnum_factors = find_factors(triangle)\n",
    "\tif num_factors > most_factors:\n",
    "\t\tmost_factors = num_factors\n",
    "\n",
    "print(triangle,\"has\",most_factors,\"factors\")"
   ]
  },
  {
   "cell_type": "code",
   "execution_count": 15,
   "id": "b8412d8d-e7d0-46e7-bd81-0a54f26e9fb1",
   "metadata": {},
   "outputs": [
    {
     "data": {
      "text/plain": [
       "6"
      ]
     },
     "execution_count": 15,
     "metadata": {},
     "output_type": "execute_result"
    }
   ],
   "source": [
    "number_divisors(28)"
   ]
  },
  {
   "cell_type": "markdown",
   "id": "693c0bd2-5de7-40f1-943e-0c363841bcc8",
   "metadata": {},
   "source": [
    "# Largest product in a Grid"
   ]
  },
  {
   "cell_type": "code",
   "execution_count": 41,
   "id": "b435ddb0-0223-4574-8fb5-c3f1a248a13c",
   "metadata": {},
   "outputs": [],
   "source": [
    "grid = [8,2,22,97,38,15,0,40,0,75,4,5,7,78,52,12,50,77,91,8,\n",
    "49,49,99,40,17,81,18,57,60,87,17,40,98,43,69,48,4,56,62,0,\n",
    "81,49,31,73,55,79,14,29,93,71,40,67,53,88,30,3,49,13,36,65,\n",
    "52,70,95,23,4,60,11,42,69,24,68,56,1,32,56,71,37,2,36,91,\n",
    "22,31,16,71,51,67,63,89,41,92,36,54,22,40,40,28,66,33,13,80,\n",
    "24,47,32,60,99,3,45,2,44,75,33,53,78,36,84,20,35,17,12,50,\n",
    "32,98,81,28,64,23,67,10,26,38,40,67,59,54,70,66,18,38,64,70,\n",
    "67,26,20,68,2,62,12,20,95,63,94,39,63,8,40,91,66,49,94,21,\n",
    "24,55,58,5,66,73,99,26,97,17,78,78,96,83,14,88,34,89,63,72,\n",
    "21,36,23,9,75,0,76,44,20,45,35,14,0,61,33,97,34,31,33,95,\n",
    "78,17,53,28,22,75,31,67,15,94,3,80,4,62,16,14,9,53,56,92,\n",
    "16,39,5,42,96,35,31,47,55,58,88,24,0,17,54,24,36,29,85,57,\n",
    "86,56,0,48,35,71,89,7,5,44,44,37,44,60,21,58,51,54,17,58,\n",
    "19,80,81,68,5,94,47,69,28,73,92,13,86,52,17,77,4,89,55,40,\n",
    "4,52,8,83,97,35,99,16,7,97,57,32,16,26,26,79,33,27,98,66,\n",
    "88,36,68,87,57,62,20,72,3,46,33,67,46,55,12,32,63,93,53,69,\n",
    "4,42,16,73,38,25,39,11,24,94,72,18,8,46,29,32,40,62,76,36,\n",
    "20,69,36,41,72,30,23,88,34,62,99,69,82,67,59,85,74,4,36,16,\n",
    "20,73,35,29,78,31,90,1,74,31,49,71,48,86,81,16,23,57,5,54,\n",
    "1,70,54,71,83,51,54,69,16,92,33,48,61,43,52,1,89,19,67,48]"
   ]
  },
  {
   "cell_type": "code",
   "execution_count": null,
   "id": "22bc131f-8469-4c22-bf3a-11960adb927e",
   "metadata": {},
   "outputs": [],
   "source": [
    "def best_multiple(grid, len_row, len_check):\n",
    "    list = [grid[i:i+len_row] for i in range(0, len(grid), len_row)]\n",
    "    "
   ]
  },
  {
   "cell_type": "code",
   "execution_count": 53,
   "id": "02377045-9308-4429-99d8-ac2d5910d8b6",
   "metadata": {
    "collapsed": true,
    "jupyter": {
     "outputs_hidden": true
    }
   },
   "outputs": [
    {
     "data": {
      "text/plain": [
       "[[8, 2, 22, 97, 38, 15, 0, 40, 0, 75, 4, 5, 7, 78, 52, 12, 50, 77, 91, 8],\n",
       " [49,\n",
       "  49,\n",
       "  99,\n",
       "  40,\n",
       "  17,\n",
       "  81,\n",
       "  18,\n",
       "  57,\n",
       "  60,\n",
       "  87,\n",
       "  17,\n",
       "  40,\n",
       "  98,\n",
       "  43,\n",
       "  69,\n",
       "  48,\n",
       "  4,\n",
       "  56,\n",
       "  62,\n",
       "  0],\n",
       " [81,\n",
       "  49,\n",
       "  31,\n",
       "  73,\n",
       "  55,\n",
       "  79,\n",
       "  14,\n",
       "  29,\n",
       "  93,\n",
       "  71,\n",
       "  40,\n",
       "  67,\n",
       "  53,\n",
       "  88,\n",
       "  30,\n",
       "  3,\n",
       "  49,\n",
       "  13,\n",
       "  36,\n",
       "  65],\n",
       " [52, 70, 95, 23, 4, 60, 11, 42, 69, 24, 68, 56, 1, 32, 56, 71, 37, 2, 36, 91],\n",
       " [22,\n",
       "  31,\n",
       "  16,\n",
       "  71,\n",
       "  51,\n",
       "  67,\n",
       "  63,\n",
       "  89,\n",
       "  41,\n",
       "  92,\n",
       "  36,\n",
       "  54,\n",
       "  22,\n",
       "  40,\n",
       "  40,\n",
       "  28,\n",
       "  66,\n",
       "  33,\n",
       "  13,\n",
       "  80]]"
      ]
     },
     "execution_count": 53,
     "metadata": {},
     "output_type": "execute_result"
    }
   ],
   "source": []
  },
  {
   "cell_type": "code",
   "execution_count": null,
   "id": "f4f37960-f932-4cb5-87ce-5893e6c67567",
   "metadata": {},
   "outputs": [],
   "source": [
    "for i in range(0, 100, 20):\n",
    "    grid[i:i+20]"
   ]
  },
  {
   "cell_type": "code",
   "execution_count": 50,
   "id": "15051d20-2c92-42c3-9df2-fa4b2550775a",
   "metadata": {},
   "outputs": [
    {
     "data": {
      "text/plain": [
       "[0, 1, 4, 9, 16, 25, 36, 49, 64, 81]"
      ]
     },
     "execution_count": 50,
     "metadata": {},
     "output_type": "execute_result"
    }
   ],
   "source": [
    "[x**2 for x in range(10)]"
   ]
  },
  {
   "cell_type": "code",
   "execution_count": 48,
   "id": "958ea046-c0b6-49e7-b028-ce8542c7c143",
   "metadata": {},
   "outputs": [
    {
     "data": {
      "text/plain": [
       "5"
      ]
     },
     "execution_count": 48,
     "metadata": {},
     "output_type": "execute_result"
    }
   ],
   "source": [
    "len(lists)"
   ]
  },
  {
   "cell_type": "code",
   "execution_count": null,
   "id": "fc92858e-4bc0-496a-9f76-f4290fab581b",
   "metadata": {},
   "outputs": [],
   "source": []
  }
 ],
 "metadata": {
  "kernelspec": {
   "display_name": "Python 3 (ipykernel)",
   "language": "python",
   "name": "python3"
  },
  "language_info": {
   "codemirror_mode": {
    "name": "ipython",
    "version": 3
   },
   "file_extension": ".py",
   "mimetype": "text/x-python",
   "name": "python",
   "nbconvert_exporter": "python",
   "pygments_lexer": "ipython3",
   "version": "3.9.18"
  }
 },
 "nbformat": 4,
 "nbformat_minor": 5
}
