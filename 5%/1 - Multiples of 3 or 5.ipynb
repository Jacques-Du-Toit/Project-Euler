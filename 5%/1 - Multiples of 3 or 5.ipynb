{
 "cells": [
  {
   "cell_type": "code",
   "execution_count": 11,
   "id": "04c3f4e1-6aee-410d-9fe5-db0481c65373",
   "metadata": {},
   "outputs": [],
   "source": [
    "def multiples_of_3_or_5(n):\n",
    "    total = 0\n",
    "    for i in range(1, n):\n",
    "        if i % 3 == 0:\n",
    "            total += i\n",
    "        elif i % 5 == 0:\n",
    "            total += i\n",
    "    return total"
   ]
  },
  {
   "cell_type": "code",
   "execution_count": 12,
   "id": "f0e5b019-86c3-4393-a911-a85659314e41",
   "metadata": {},
   "outputs": [
    {
     "data": {
      "text/plain": [
       "233168"
      ]
     },
     "execution_count": 12,
     "metadata": {},
     "output_type": "execute_result"
    }
   ],
   "source": [
    "multiples_of_3_or_5(1000)"
   ]
  },
  {
   "cell_type": "code",
   "execution_count": 19,
   "id": "9d84bbcf-faf9-4b72-bd25-d4512ab64e11",
   "metadata": {},
   "outputs": [
    {
     "data": {
      "text/plain": [
       "233333333166666668"
      ]
     },
     "execution_count": 19,
     "metadata": {},
     "output_type": "execute_result"
    }
   ],
   "source": [
    "multiples_of_3_or_5(1_000_000_000)"
   ]
  },
  {
   "cell_type": "code",
   "execution_count": 21,
   "id": "e973822d-03d4-4470-8bf8-2f98c852c877",
   "metadata": {},
   "outputs": [
    {
     "name": "stdout",
     "output_type": "stream",
     "text": [
      "1min 25s ± 984 ms per loop (mean ± std. dev. of 7 runs, 1 loop each)\n"
     ]
    }
   ],
   "source": [
    "%%timeit\n",
    "multiples_of_3_or_5(1_000_000_000)"
   ]
  }
 ],
 "metadata": {
  "kernelspec": {
   "display_name": "Python 3 (ipykernel)",
   "language": "python",
   "name": "python3"
  },
  "language_info": {
   "codemirror_mode": {
    "name": "ipython",
    "version": 3
   },
   "file_extension": ".py",
   "mimetype": "text/x-python",
   "name": "python",
   "nbconvert_exporter": "python",
   "pygments_lexer": "ipython3",
   "version": "3.10.7"
  }
 },
 "nbformat": 4,
 "nbformat_minor": 5
}
