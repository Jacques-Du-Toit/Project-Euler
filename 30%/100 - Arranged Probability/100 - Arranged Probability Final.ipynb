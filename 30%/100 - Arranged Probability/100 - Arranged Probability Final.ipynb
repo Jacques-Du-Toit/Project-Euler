{
 "cells": [
  {
   "cell_type": "code",
   "execution_count": 1,
   "id": "bfa89806-25b2-40f2-b71a-f1b80be31f24",
   "metadata": {},
   "outputs": [],
   "source": [
    "def follows_rule(b, n):\n",
    "    if 2*b*(b-1) == n*(n-1):\n",
    "        return True\n",
    "    else:\n",
    "        return False\n",
    "\n",
    "assert follows_rule(15, 21) == True\n",
    "assert follows_rule(85, 120) == True\n",
    "assert follows_rule(42, 64) == False"
   ]
  },
  {
   "cell_type": "code",
   "execution_count": 2,
   "id": "432d54e6-f8a5-4a02-9d15-a5b7a6899ef4",
   "metadata": {},
   "outputs": [],
   "source": [
    "def calculate_b_from_d(d):\n",
    "    return int(d/sqrt(2))+1"
   ]
  },
  {
   "cell_type": "code",
   "execution_count": 7,
   "id": "c630c341-b7c3-4e5f-94a3-03b9e5c72dce",
   "metadata": {},
   "outputs": [],
   "source": [
    "from math import sqrt\n",
    "def answer(lower_bound):\n",
    "    sqrt_two = sqrt(2)\n",
    "    numerator = 3\n",
    "    denominator = 4\n",
    "    nums = [3]\n",
    "    denoms = [4]\n",
    "    is_three = True\n",
    "    while True:\n",
    "        b = calculate_b_from_d(denominator)\n",
    "        new_num = numerator*b\n",
    "        new_den = numerator*denominator\n",
    "        if follows_rule(new_num, new_den):\n",
    "            print(new_num, new_den, denominator)\n",
    "            nums.append(new_num)\n",
    "            denoms.append(new_den)\n",
    "            if new_den > lower_bound:\n",
    "                return nums, denoms\n",
    "            numerator = b\n",
    "            mult = 3.41 if is_three else 1.7\n",
    "            is_three = not is_three\n",
    "            denominator = int(denominator * mult)\n",
    "        denominator+=1"
   ]
  },
  {
   "cell_type": "code",
   "execution_count": 8,
   "id": "d3f28bb0-3bd4-485d-9494-51b00c3bc1f4",
   "metadata": {},
   "outputs": [
    {
     "name": "stdout",
     "output_type": "stream",
     "text": [
      "15 21 7\n",
      "85 120 24\n",
      "493 697 41\n",
      "2871 4060 140\n",
      "16731 23661 239\n",
      "97513 137904 816\n",
      "568345 803761 1393\n",
      "3312555 4684660 4756\n",
      "19306983 27304197 8119\n",
      "112529341 159140520 27720\n",
      "655869061 927538921 47321\n",
      "3822685023 5406093004 161564\n",
      "22280241075 31509019101 275807\n",
      "129858761425 183648021600 941664\n",
      "756872327473 1070379110497 1607521\n"
     ]
    }
   ],
   "source": [
    "nums, dems = answer(10**12)"
   ]
  },
  {
   "cell_type": "code",
   "execution_count": null,
   "id": "3656e4ba-5a40-4d5b-b56c-1d1576311e03",
   "metadata": {},
   "outputs": [],
   "source": []
  }
 ],
 "metadata": {
  "kernelspec": {
   "display_name": "Python 3 (ipykernel)",
   "language": "python",
   "name": "python3"
  },
  "language_info": {
   "codemirror_mode": {
    "name": "ipython",
    "version": 3
   },
   "file_extension": ".py",
   "mimetype": "text/x-python",
   "name": "python",
   "nbconvert_exporter": "python",
   "pygments_lexer": "ipython3",
   "version": "3.9.18"
  }
 },
 "nbformat": 4,
 "nbformat_minor": 5
}
