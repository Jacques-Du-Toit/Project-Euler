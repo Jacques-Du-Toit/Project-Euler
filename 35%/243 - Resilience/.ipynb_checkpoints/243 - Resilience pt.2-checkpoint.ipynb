{
 "cells": [
  {
   "cell_type": "code",
   "execution_count": null,
   "id": "499ea531-137e-44ba-841c-8f880e83e791",
   "metadata": {},
   "outputs": [],
   "source": []
  },
  {
   "cell_type": "code",
   "execution_count": 108,
   "id": "eff4f56a-f535-4f06-a435-d8a79c56c681",
   "metadata": {},
   "outputs": [],
   "source": [
    "def is_resilient(n, d):\n",
    "    \"Checks if numerator and denominator share any common factors or if n is a factor of d\"\n",
    "    if n == 1:\n",
    "        return True\n",
    "    if d%n==0:\n",
    "        return False\n",
    "    \n",
    "    for div in range(2, int(n**0.5) + 1):\n",
    "        if n%div == 0:\n",
    "            if d%div == 0:\n",
    "                return False\n",
    "            if d%(n/div) == 0:\n",
    "                return False\n",
    "    return True\n",
    "\n",
    "assert is_resilient(4, 12) == False\n",
    "assert is_resilient(1, 2) == True\n",
    "assert is_resilient(5, 11) == True\n",
    "assert is_resilient(3, 12) == False"
   ]
  },
  {
   "cell_type": "code",
   "execution_count": 109,
   "id": "3745af4c-987f-4e78-beab-f464770c18fe",
   "metadata": {},
   "outputs": [],
   "source": [
    "def resilience(d):\n",
    "    resil = 1\n",
    "    for n in range(2, d):\n",
    "        if is_resilient(n, d):\n",
    "            resil += 1\n",
    "    return resil"
   ]
  },
  {
   "cell_type": "code",
   "execution_count": 110,
   "id": "03cb2ac3-7459-4dc4-b511-2fa0828ed4e1",
   "metadata": {},
   "outputs": [],
   "source": [
    "def find_irresilient_old(UB=15499/94744):\n",
    "    least = 1\n",
    "    best_d = 2\n",
    "    d = 2\n",
    "    while True:\n",
    "        res = resilience(d)/(d-1)\n",
    "        if res < least:\n",
    "            least = res\n",
    "            best_d = d\n",
    "            print(f'{d} - {resilience(d)}/{(d-1)}')\n",
    "        if res < UB:\n",
    "            return d\n",
    "        else:\n",
    "            d+=1"
   ]
  },
  {
   "cell_type": "code",
   "execution_count": 117,
   "id": "ee0ba3fb-fc16-42cb-95a3-c3097302d2b2",
   "metadata": {},
   "outputs": [],
   "source": [
    "import numpy as np\n",
    "def generate_primes_store(n):\n",
    "    primes = [2]\n",
    "    for p in range(3, n+1):\n",
    "        is_prime = True\n",
    "        for prime in primes:\n",
    "            if p%prime == 0:\n",
    "                is_prime = False\n",
    "                break\n",
    "        if is_prime:\n",
    "            primes.append(p)\n",
    "            if np.prod(primes) >= n:\n",
    "                return primes"
   ]
  },
  {
   "cell_type": "code",
   "execution_count": 135,
   "id": "544cd73c-e8b0-49e4-92f0-bc8e1487a2c8",
   "metadata": {},
   "outputs": [],
   "source": [
    "def prime_factors(d, primes=None):\n",
    "    if primes == None:\n",
    "        primes = generate_primes_store(d)\n",
    "    if is_prime(d):\n",
    "        return d\n",
    "    for p in primes:\n",
    "        if d%p==0:\n",
    "            return [p] + prime_factors(d//p, primes)\n",
    "        else:\n",
    "            return prime_factors(d, primes[1:])"
   ]
  },
  {
   "cell_type": "code",
   "execution_count": 120,
   "id": "ca8bfcc0-3154-4570-8012-2ccf05825d4c",
   "metadata": {},
   "outputs": [],
   "source": [
    "def is_prime(p):\n",
    "    for i in range(2, int(sqrt(p))+1):\n",
    "        if p%i==0:\n",
    "            return False\n",
    "    return True"
   ]
  },
  {
   "cell_type": "code",
   "execution_count": 136,
   "id": "f3be0a7c-1c28-4487-9d57-ed289b25cb80",
   "metadata": {
    "collapsed": true,
    "jupyter": {
     "outputs_hidden": true
    }
   },
   "outputs": [
    {
     "ename": "TypeError",
     "evalue": "can only concatenate list (not \"int\") to list",
     "output_type": "error",
     "traceback": [
      "\u001b[1;31m---------------------------------------------------------------------------\u001b[0m",
      "\u001b[1;31mTypeError\u001b[0m                                 Traceback (most recent call last)",
      "Cell \u001b[1;32mIn[136], line 1\u001b[0m\n\u001b[1;32m----> 1\u001b[0m \u001b[43mprime_factors\u001b[49m\u001b[43m(\u001b[49m\u001b[38;5;241;43m94745\u001b[39;49m\u001b[43m)\u001b[49m\n",
      "Cell \u001b[1;32mIn[135], line 10\u001b[0m, in \u001b[0;36mprime_factors\u001b[1;34m(d, primes)\u001b[0m\n\u001b[0;32m      8\u001b[0m     \u001b[38;5;28;01mreturn\u001b[39;00m [p] \u001b[38;5;241m+\u001b[39m prime_factors(d\u001b[38;5;241m/\u001b[39m\u001b[38;5;241m/\u001b[39mp, primes)\n\u001b[0;32m      9\u001b[0m \u001b[38;5;28;01melse\u001b[39;00m:\n\u001b[1;32m---> 10\u001b[0m     \u001b[38;5;28;01mreturn\u001b[39;00m \u001b[43mprime_factors\u001b[49m\u001b[43m(\u001b[49m\u001b[43md\u001b[49m\u001b[43m,\u001b[49m\u001b[43m \u001b[49m\u001b[43mprimes\u001b[49m\u001b[43m[\u001b[49m\u001b[38;5;241;43m1\u001b[39;49m\u001b[43m:\u001b[49m\u001b[43m]\u001b[49m\u001b[43m)\u001b[49m\n",
      "Cell \u001b[1;32mIn[135], line 10\u001b[0m, in \u001b[0;36mprime_factors\u001b[1;34m(d, primes)\u001b[0m\n\u001b[0;32m      8\u001b[0m     \u001b[38;5;28;01mreturn\u001b[39;00m [p] \u001b[38;5;241m+\u001b[39m prime_factors(d\u001b[38;5;241m/\u001b[39m\u001b[38;5;241m/\u001b[39mp, primes)\n\u001b[0;32m      9\u001b[0m \u001b[38;5;28;01melse\u001b[39;00m:\n\u001b[1;32m---> 10\u001b[0m     \u001b[38;5;28;01mreturn\u001b[39;00m \u001b[43mprime_factors\u001b[49m\u001b[43m(\u001b[49m\u001b[43md\u001b[49m\u001b[43m,\u001b[49m\u001b[43m \u001b[49m\u001b[43mprimes\u001b[49m\u001b[43m[\u001b[49m\u001b[38;5;241;43m1\u001b[39;49m\u001b[43m:\u001b[49m\u001b[43m]\u001b[49m\u001b[43m)\u001b[49m\n",
      "Cell \u001b[1;32mIn[135], line 8\u001b[0m, in \u001b[0;36mprime_factors\u001b[1;34m(d, primes)\u001b[0m\n\u001b[0;32m      6\u001b[0m \u001b[38;5;28;01mfor\u001b[39;00m p \u001b[38;5;129;01min\u001b[39;00m primes:\n\u001b[0;32m      7\u001b[0m     \u001b[38;5;28;01mif\u001b[39;00m d\u001b[38;5;241m%\u001b[39mp\u001b[38;5;241m==\u001b[39m\u001b[38;5;241m0\u001b[39m:\n\u001b[1;32m----> 8\u001b[0m         \u001b[38;5;28;01mreturn\u001b[39;00m [p] \u001b[38;5;241m+\u001b[39m \u001b[43mprime_factors\u001b[49m\u001b[43m(\u001b[49m\u001b[43md\u001b[49m\u001b[38;5;241;43m/\u001b[39;49m\u001b[38;5;241;43m/\u001b[39;49m\u001b[43mp\u001b[49m\u001b[43m,\u001b[49m\u001b[43m \u001b[49m\u001b[43mprimes\u001b[49m\u001b[43m)\u001b[49m\n\u001b[0;32m      9\u001b[0m     \u001b[38;5;28;01melse\u001b[39;00m:\n\u001b[0;32m     10\u001b[0m         \u001b[38;5;28;01mreturn\u001b[39;00m prime_factors(d, primes[\u001b[38;5;241m1\u001b[39m:])\n",
      "Cell \u001b[1;32mIn[135], line 10\u001b[0m, in \u001b[0;36mprime_factors\u001b[1;34m(d, primes)\u001b[0m\n\u001b[0;32m      8\u001b[0m     \u001b[38;5;28;01mreturn\u001b[39;00m [p] \u001b[38;5;241m+\u001b[39m prime_factors(d\u001b[38;5;241m/\u001b[39m\u001b[38;5;241m/\u001b[39mp, primes)\n\u001b[0;32m      9\u001b[0m \u001b[38;5;28;01melse\u001b[39;00m:\n\u001b[1;32m---> 10\u001b[0m     \u001b[38;5;28;01mreturn\u001b[39;00m \u001b[43mprime_factors\u001b[49m\u001b[43m(\u001b[49m\u001b[43md\u001b[49m\u001b[43m,\u001b[49m\u001b[43m \u001b[49m\u001b[43mprimes\u001b[49m\u001b[43m[\u001b[49m\u001b[38;5;241;43m1\u001b[39;49m\u001b[43m:\u001b[49m\u001b[43m]\u001b[49m\u001b[43m)\u001b[49m\n",
      "Cell \u001b[1;32mIn[135], line 8\u001b[0m, in \u001b[0;36mprime_factors\u001b[1;34m(d, primes)\u001b[0m\n\u001b[0;32m      6\u001b[0m \u001b[38;5;28;01mfor\u001b[39;00m p \u001b[38;5;129;01min\u001b[39;00m primes:\n\u001b[0;32m      7\u001b[0m     \u001b[38;5;28;01mif\u001b[39;00m d\u001b[38;5;241m%\u001b[39mp\u001b[38;5;241m==\u001b[39m\u001b[38;5;241m0\u001b[39m:\n\u001b[1;32m----> 8\u001b[0m         \u001b[38;5;28;01mreturn\u001b[39;00m \u001b[43m[\u001b[49m\u001b[43mp\u001b[49m\u001b[43m]\u001b[49m\u001b[43m \u001b[49m\u001b[38;5;241;43m+\u001b[39;49m\u001b[43m \u001b[49m\u001b[43mprime_factors\u001b[49m\u001b[43m(\u001b[49m\u001b[43md\u001b[49m\u001b[38;5;241;43m/\u001b[39;49m\u001b[38;5;241;43m/\u001b[39;49m\u001b[43mp\u001b[49m\u001b[43m,\u001b[49m\u001b[43m \u001b[49m\u001b[43mprimes\u001b[49m\u001b[43m)\u001b[49m\n\u001b[0;32m      9\u001b[0m     \u001b[38;5;28;01melse\u001b[39;00m:\n\u001b[0;32m     10\u001b[0m         \u001b[38;5;28;01mreturn\u001b[39;00m prime_factors(d, primes[\u001b[38;5;241m1\u001b[39m:])\n",
      "\u001b[1;31mTypeError\u001b[0m: can only concatenate list (not \"int\") to list"
     ]
    }
   ],
   "source": [
    "prime_factors(94745)"
   ]
  },
  {
   "cell_type": "code",
   "execution_count": null,
   "id": "bce721e5-62c7-43fe-af75-d6b05a183998",
   "metadata": {},
   "outputs": [],
   "source": [
    "UB = 481/2309"
   ]
  },
  {
   "cell_type": "code",
   "execution_count": null,
   "id": "1dbb816a-6323-45ee-8639-ece19beb390c",
   "metadata": {},
   "outputs": [],
   "source": [
    "for "
   ]
  },
  {
   "cell_type": "markdown",
   "id": "f24bdd5b-a27b-4c56-8165-0b3ec5da1056",
   "metadata": {},
   "source": [
    "get prime factors of d+1, "
   ]
  },
  {
   "cell_type": "code",
   "execution_count": null,
   "id": "bbe67da3-a2bd-46ec-bc99-38df78e3f7b3",
   "metadata": {},
   "outputs": [],
   "source": [
    "15499/94744\n",
    "-> D(d)"
   ]
  },
  {
   "cell_type": "code",
   "execution_count": 114,
   "id": "a5561eb3-8517-4570-8a4c-42247698b9cb",
   "metadata": {},
   "outputs": [
    {
     "name": "stdout",
     "output_type": "stream",
     "text": [
      "4 - 2/3\n",
      "6 - 2/5\n",
      "12 - 4/11\n",
      "18 - 6/17\n",
      "24 - 8/23\n",
      "30 - 8/29\n",
      "60 - 16/59\n",
      "90 - 24/89\n",
      "120 - 32/119\n",
      "150 - 40/149\n",
      "180 - 48/179\n",
      "210 - 48/209\n",
      "420 - 96/419\n",
      "630 - 144/629\n",
      "840 - 192/839\n",
      "1050 - 240/1049\n",
      "1260 - 288/1259\n",
      "1470 - 336/1469\n",
      "1680 - 384/1679\n",
      "1890 - 432/1889\n",
      "2100 - 480/2099\n",
      "2310 - 480/2309\n"
     ]
    },
    {
     "data": {
      "text/plain": [
       "2310"
      ]
     },
     "execution_count": 114,
     "metadata": {},
     "output_type": "execute_result"
    }
   ],
   "source": [
    "find_irresilient_old(0.22)"
   ]
  },
  {
   "cell_type": "code",
   "execution_count": null,
   "id": "f876a8e6-4b06-4dde-accd-7737ee02a43f",
   "metadata": {},
   "outputs": [],
   "source": []
  }
 ],
 "metadata": {
  "kernelspec": {
   "display_name": "Python 3 (ipykernel)",
   "language": "python",
   "name": "python3"
  },
  "language_info": {
   "codemirror_mode": {
    "name": "ipython",
    "version": 3
   },
   "file_extension": ".py",
   "mimetype": "text/x-python",
   "name": "python",
   "nbconvert_exporter": "python",
   "pygments_lexer": "ipython3",
   "version": "3.9.18"
  }
 },
 "nbformat": 4,
 "nbformat_minor": 5
}
